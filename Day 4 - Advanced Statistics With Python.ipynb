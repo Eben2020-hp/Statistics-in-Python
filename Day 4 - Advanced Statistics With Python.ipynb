{
 "cells": [
  {
   "cell_type": "code",
   "execution_count": 1,
   "id": "9407dca2",
   "metadata": {},
   "outputs": [],
   "source": [
    "%matplotlib inline\n",
    "\n",
    "import pandas as pd\n",
    "import numpy as np\n",
    "\n",
    "import seaborn as sns\n",
    "import matplotlib.pyplot as plt"
   ]
  },
  {
   "cell_type": "markdown",
   "id": "a69affb1",
   "metadata": {},
   "source": [
    "### Define the dataset"
   ]
  },
  {
   "cell_type": "code",
   "execution_count": 2,
   "id": "30e594e3",
   "metadata": {
    "scrolled": true
   },
   "outputs": [
    {
     "name": "stdout",
     "output_type": "stream",
     "text": [
      "[11, 10, 12, 14, 12, 15, 14, 13, 15, 102, 12, 14, 17, 19, 107, 10, 13, 12, 14, 12, 108, 12, 11, 14, 13, 15, 10, 15, 12, 10, 14, 13, 15, 10]\n"
     ]
    }
   ],
   "source": [
    "dataset = [11,10,12,14,12,15,14,13,15,102,12,14,17,19,107, 10,13,12,14,12,108,12,11,14,13,15,10,15,12,10,14,13,15,10]\n",
    "print(dataset)"
   ]
  },
  {
   "cell_type": "markdown",
   "id": "ae0c5a3e",
   "metadata": {},
   "source": [
    "- Here we can quickly analyze ans see that some of the outliers are **102, 107 and 108** are the outliers.\n",
    "- Using the Z-score we can come to an understanding that most of the times values after the 3-SD is considered as Outliers."
   ]
  },
  {
   "cell_type": "markdown",
   "id": "0b4a09b0",
   "metadata": {},
   "source": [
    "#### Detect Outliers using Z-Score"
   ]
  },
  {
   "cell_type": "code",
   "execution_count": 3,
   "id": "c46ba4e2",
   "metadata": {},
   "outputs": [
    {
     "data": {
      "text/plain": [
       "[102, 107, 108]"
      ]
     },
     "execution_count": 3,
     "metadata": {},
     "output_type": "execute_result"
    }
   ],
   "source": [
    "outliers = []\n",
    "\n",
    "def detect_outliers(data):\n",
    "    threshold = 3              ### 3-SD. Keeping it so that anything above the third std deviation is an outliers.\n",
    "    mean = np.mean(data)\n",
    "    std = np.std(data)\n",
    "    \n",
    "    for x in data:\n",
    "        z_score = (x-mean)/std\n",
    "        if np.abs(z_score) > threshold:\n",
    "            outliers.append(x)\n",
    "        else:\n",
    "            pass\n",
    "    return outliers\n",
    "\n",
    "detect_outliers(dataset)"
   ]
  },
  {
   "cell_type": "markdown",
   "id": "c1613cca",
   "metadata": {},
   "source": [
    "#### Detect Outliers using Inter Quartile Range\n",
    "\n",
    "1. Sort the Data\n",
    "2. Calculate Q1 and Q3\n",
    "3. Obtain IQR -> Q3-Q1\n",
    "4. Find the Lower Fence -> Q1 - 1.5*IQR\n",
    "5. Find the Upper Fence -> Q3 + 1.5*IQR"
   ]
  },
  {
   "cell_type": "code",
   "execution_count": 4,
   "id": "086426eb",
   "metadata": {},
   "outputs": [
    {
     "name": "stdout",
     "output_type": "stream",
     "text": [
      "[10, 10, 10, 10, 10, 11, 11, 12, 12, 12, 12, 12, 12, 12, 13, 13, 13, 13, 14, 14, 14, 14, 14, 14, 15, 15, 15, 15, 15, 17, 19, 102, 107, 108]\n"
     ]
    }
   ],
   "source": [
    "### STEP 1: Sorting\n",
    "\n",
    "dataset = sorted(dataset)\n",
    "print(dataset)"
   ]
  },
  {
   "cell_type": "code",
   "execution_count": 5,
   "id": "90b750b0",
   "metadata": {},
   "outputs": [
    {
     "name": "stdout",
     "output_type": "stream",
     "text": [
      "Q1: 12.0\n",
      "\n",
      "Q3: 15.0\n"
     ]
    }
   ],
   "source": [
    "### STEP 3: Calculate Q1 and Q3\n",
    "\n",
    "Q1, Q3 = np.percentile(dataset, [25,75])\n",
    "print(f'Q1: {Q1}')\n",
    "print()\n",
    "print(f'Q3: {Q3}')"
   ]
  },
  {
   "cell_type": "code",
   "execution_count": 6,
   "id": "8de3ebbc",
   "metadata": {},
   "outputs": [
    {
     "data": {
      "text/plain": [
       "3.0"
      ]
     },
     "execution_count": 6,
     "metadata": {},
     "output_type": "execute_result"
    }
   ],
   "source": [
    "### STEP 3: IQR\n",
    "\n",
    "IQR = Q3 - Q1\n",
    "IQR"
   ]
  },
  {
   "cell_type": "code",
   "execution_count": 7,
   "id": "9000eb75",
   "metadata": {},
   "outputs": [
    {
     "name": "stdout",
     "output_type": "stream",
     "text": [
      "Lower Fence: 7.5\n",
      "\n",
      "Upper Fence: 19.5\n"
     ]
    }
   ],
   "source": [
    "### STEP 4: Obtain the Lower and Upper Fence\n",
    "\n",
    "Lower_Fence = Q1 - (1.5)*IQR\n",
    "print(f'Lower Fence: {Lower_Fence}')\n",
    "print()\n",
    "Upper_Fence = Q3 + (1.5)*IQR\n",
    "print(f'Upper Fence: {Upper_Fence}')"
   ]
  },
  {
   "cell_type": "markdown",
   "id": "f51b17d8",
   "metadata": {},
   "source": [
    "- Any datapoint that lies above the Upper Fence and that lies below the Lower Fence can be considered as Outliers."
   ]
  },
  {
   "cell_type": "markdown",
   "id": "e031db37",
   "metadata": {},
   "source": [
    "#### Detect Outliers using Boxplot"
   ]
  },
  {
   "cell_type": "code",
   "execution_count": 8,
   "id": "da597bc1",
   "metadata": {},
   "outputs": [],
   "source": [
    "import seaborn as sns"
   ]
  },
  {
   "cell_type": "code",
   "execution_count": 9,
   "id": "5782d7ec",
   "metadata": {},
   "outputs": [
    {
     "name": "stderr",
     "output_type": "stream",
     "text": [
      "/Users/eben.emmanuel/opt/anaconda3/lib/python3.9/site-packages/seaborn/_decorators.py:36: FutureWarning: Pass the following variable as a keyword arg: x. From version 0.12, the only valid positional argument will be `data`, and passing other arguments without an explicit keyword will result in an error or misinterpretation.\n",
      "  warnings.warn(\n"
     ]
    },
    {
     "data": {
      "text/plain": [
       "<AxesSubplot:>"
      ]
     },
     "execution_count": 9,
     "metadata": {},
     "output_type": "execute_result"
    },
    {
     "data": {
      "image/png": "[encoded data removed]",
      "text/plain": [
       "<Figure size 432x288 with 1 Axes>"
      ]
     },
     "metadata": {
      "needs_background": "light"
     },
     "output_type": "display_data"
    }
   ],
   "source": [
    "sns.boxplot(dataset)"
   ]
  },
  {
   "cell_type": "code",
   "execution_count": null,
   "id": "d91bf367",
   "metadata": {},
   "outputs": [],
   "source": []
  }
 ],
 "metadata": {
  "kernelspec": {
   "display_name": "Python 3 (ipykernel)",
   "language": "python",
   "name": "python3"
  },
  "language_info": {
   "codemirror_mode": {
    "name": "ipython",
    "version": 3
   },
   "file_extension": ".py",
   "mimetype": "text/x-python",
   "name": "python",
   "nbconvert_exporter": "python",
   "pygments_lexer": "ipython3",
   "version": "3.9.7"
  }
 },
 "nbformat": 4,
 "nbformat_minor": 5
}
